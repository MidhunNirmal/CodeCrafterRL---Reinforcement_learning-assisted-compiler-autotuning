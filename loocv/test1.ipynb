{
 "cells": [
  {
   "cell_type": "code",
   "execution_count": 1,
   "id": "a4c4dbdb",
   "metadata": {},
   "outputs": [],
   "source": [
    "import pandas as pd\n",
    "\n",
    "df = pd.read_csv(r'C:\\Users\\sis\\Desktop\\mini1 - Copy\\alternatedata\\raw_data\\data.csv')"
   ]
  },
  {
   "cell_type": "code",
   "execution_count": 5,
   "id": "c39acc8c",
   "metadata": {},
   "outputs": [
    {
     "name": "stdout",
     "output_type": "stream",
     "text": [
      "['APP_NAME', 'funsafe_math_optimizations', 'fno_guess_branch_probability', 'fno_ivopts', 'fno_tree_loop_optimize', 'fno_inline_functions', 'funroll_all_loops', 'o2', 'code_size', 'noBasicBlock', 'nobasicBlockSingleSocc', 'nobasicBlock2Socc', 'noBasicBlockSoccMore', 'noBasicBlockPred', 'noBasicBlock2Pred', 'noBasicBlockPredMore', 'ft8', 'ft9', 'ft10', 'ft11', 'ft12', 'ft13', 'ft14', 'ft15', 'ft16', 'ft17', 'ft19', 'ft20', 'ft21', 'ft22', 'ft23', 'ft24', 'ft25', 'ft26', 'ft27', 'ft28', 'ft29', 'ft30', 'ft31', 'ft33', 'ft34', 'ft35', 'ft36', 'ft37', 'ft38', 'ft39', 'ft40', 'ft41', 'ft42', 'ft43', 'ft44', 'ft45', 'ft46', 'ft47', 'ft48', 'ft49', 'ft50', 'ft51', 'ft52', 'ft53', 'ft54', 'ft55', 'ILP32_1', 'arithmetic_1', 'InstrFootprint64_1', 'DataFootprint64_1', 'mem_access_1', 'memReuseDist0-2_1', 'memReuseDist2-4_1', 'memReuseDist4-8_1', 'memReuseDist8-16_1', 'GAg_mispred_cnt_4bits_1', 'PAg_mispred_cnt_4bits_1', 'GAs_mispred_cnt_4bits_1', 'PAs_mispred_cnt_4bits_1', 'GAg_mispred_cnt_8bits_1', 'PAg_mispred_cnt_8bits_1', 'GAs_mispred_cnt_8bits_1', 'PAs_mispred_cnt_8bits_1', 'GAg_mispred_cnt_12bits_1', 'PAg_mispred_cnt_12bits_1', 'GAs_mispred_cnt_12bits_1', 'PAs_mispred_cnt_12bits_1', 'total_brCount_1', 'total_transactionCount_1', 'total_takenCount_1', 'total_num_ops_1', 'instr_reg_cnt_1', 'total_reg_use_cnt_1', 'total_reg_age_1', 'reg_age_cnt_1_1', 'reg_age_cnt_2_1', 'reg_age_cnt_4_1', 'reg_age_cnt_8_1', 'mem_read_cnt_1', 'mem_read_local_stride_0_1', 'mem_read_local_stride_8_1', 'mem_read_global_stride_0_1', 'mem_read_global_stride_8_1', 'mem_write_cnt_1', 'mem_write_local_stride_0_1', 'mem_write_local_stride_8_1', 'mem_write_global_stride_0_1', 'mem_write_global_stride_8_1', 'mem_write_global_stride_64_1', 'mem_write_global_stride_512_1', 'mem_write_global_stride_4096_1', 'ILP32_2', 'arithmetic_2', 'InstrFootprint64_2', 'DataFootprint64_2', 'mem_access_2', 'memReuseDist0-2_2', 'memReuseDist2-4_2', 'memReuseDist4-8_2', 'memReuseDist8-16_2', 'GAg_mispred_cnt_4bits_2', 'PAg_mispred_cnt_4bits_2', 'GAs_mispred_cnt_4bits_2', 'PAs_mispred_cnt_4bits_2', 'GAg_mispred_cnt_8bits_2', 'PAg_mispred_cnt_8bits_2', 'GAs_mispred_cnt_8bits_2', 'PAs_mispred_cnt_8bits_2', 'GAg_mispred_cnt_12bits_2', 'PAg_mispred_cnt_12bits_2', 'GAs_mispred_cnt_12bits_2', 'PAs_mispred_cnt_12bits_2', 'total_brCount_2', 'total_transactionCount_2', 'total_takenCount_2', 'total_num_ops_2', 'instr_reg_cnt_2', 'total_reg_use_cnt_2', 'total_reg_age_2', 'reg_age_cnt_1_2', 'reg_age_cnt_2_2', 'reg_age_cnt_4_2', 'reg_age_cnt_8_2', 'mem_read_cnt_2', 'mem_read_local_stride_0_2', 'mem_read_local_stride_8_2', 'mem_read_global_stride_0_2', 'mem_read_global_stride_8_2', 'mem_write_cnt_2', 'mem_write_local_stride_0_2', 'mem_write_local_stride_8_2', 'mem_write_global_stride_0_2', 'mem_write_global_stride_8_2', 'mem_write_global_stride_64_2', 'mem_write_global_stride_512_2', 'mem_write_global_stride_4096_2', 'ILP32_3', 'arithmetic_3', 'InstrFootprint64_3', 'DataFootprint64_3', 'mem_access_3', 'memReuseDist0-2_3', 'memReuseDist2-4_3', 'memReuseDist4-8_3', 'memReuseDist8-16_3', 'GAg_mispred_cnt_4bits_3', 'PAg_mispred_cnt_4bits_3', 'GAs_mispred_cnt_4bits_3', 'PAs_mispred_cnt_4bits_3', 'GAg_mispred_cnt_8bits_3', 'PAg_mispred_cnt_8bits_3', 'GAs_mispred_cnt_8bits_3', 'PAs_mispred_cnt_8bits_3', 'GAg_mispred_cnt_12bits_3', 'PAg_mispred_cnt_12bits_3', 'GAs_mispred_cnt_12bits_3', 'PAs_mispred_cnt_12bits_3', 'total_brCount_3', 'total_transactionCount_3', 'total_takenCount_3', 'total_num_ops_3', 'instr_reg_cnt_3', 'total_reg_use_cnt_3', 'total_reg_age_3', 'reg_age_cnt_1_3', 'reg_age_cnt_2_3', 'reg_age_cnt_4_3', 'reg_age_cnt_8_3', 'mem_read_cnt_3', 'mem_read_local_stride_0_3', 'mem_read_local_stride_8_3', 'mem_read_global_stride_0_3', 'mem_read_global_stride_8_3', 'mem_write_cnt_3', 'mem_write_local_stride_0_3', 'mem_write_local_stride_8_3', 'mem_write_global_stride_0_3', 'mem_write_global_stride_8_3', 'mem_write_global_stride_64_3', 'mem_write_global_stride_512_3', 'mem_write_global_stride_4096_3', 'ILP32_4', 'arithmetic_4', 'InstrFootprint64_4', 'DataFootprint64_4', 'mem_access_4', 'memReuseDist0-2_4', 'memReuseDist2-4_4', 'memReuseDist4-8_4', 'memReuseDist8-16_4', 'GAg_mispred_cnt_4bits_4', 'PAg_mispred_cnt_4bits_4', 'GAs_mispred_cnt_4bits_4', 'PAs_mispred_cnt_4bits_4', 'GAg_mispred_cnt_8bits_4', 'PAg_mispred_cnt_8bits_4', 'GAs_mispred_cnt_8bits_4', 'PAs_mispred_cnt_8bits_4', 'GAg_mispred_cnt_12bits_4', 'PAg_mispred_cnt_12bits_4', 'GAs_mispred_cnt_12bits_4', 'PAs_mispred_cnt_12bits_4', 'total_brCount_4', 'total_transactionCount_4', 'total_takenCount_4', 'total_num_ops_4', 'instr_reg_cnt_4', 'total_reg_use_cnt_4', 'total_reg_age_4', 'reg_age_cnt_1_4', 'reg_age_cnt_2_4', 'reg_age_cnt_4_4', 'reg_age_cnt_8_4', 'mem_read_cnt_4', 'mem_read_local_stride_0_4', 'mem_read_local_stride_8_4', 'mem_read_global_stride_0_4', 'mem_read_global_stride_8_4', 'mem_write_cnt_4', 'mem_write_local_stride_0_4', 'mem_write_local_stride_8_4', 'mem_write_global_stride_0_4', 'mem_write_global_stride_8_4', 'mem_write_global_stride_64_4', 'mem_write_global_stride_512_4', 'mem_write_global_stride_4096_4', 'ILP32_5', 'arithmetic_5', 'InstrFootprint64_5', 'DataFootprint64_5', 'mem_access_5', 'memReuseDist0-2_5', 'memReuseDist2-4_5', 'memReuseDist4-8_5', 'memReuseDist8-16_5', 'GAg_mispred_cnt_4bits_5', 'PAg_mispred_cnt_4bits_5', 'GAs_mispred_cnt_4bits_5', 'PAs_mispred_cnt_4bits_5', 'GAg_mispred_cnt_8bits_5', 'PAg_mispred_cnt_8bits_5', 'GAs_mispred_cnt_8bits_5', 'PAs_mispred_cnt_8bits_5', 'GAg_mispred_cnt_12bits_5', 'PAg_mispred_cnt_12bits_5', 'GAs_mispred_cnt_12bits_5', 'PAs_mispred_cnt_12bits_5', 'total_brCount_5', 'total_transactionCount_5', 'total_takenCount_5', 'total_num_ops_5', 'instr_reg_cnt_5', 'total_reg_use_cnt_5', 'total_reg_age_5', 'reg_age_cnt_1_5', 'reg_age_cnt_2_5', 'reg_age_cnt_4_5', 'reg_age_cnt_8_5', 'mem_read_cnt_5', 'mem_read_local_stride_0_5', 'mem_read_local_stride_8_5', 'mem_read_global_stride_0_5', 'mem_read_global_stride_8_5', 'mem_write_cnt_5', 'mem_write_local_stride_0_5', 'mem_write_local_stride_8_5', 'mem_write_global_stride_0_5', 'mem_write_global_stride_8_5', 'mem_write_global_stride_64_5', 'mem_write_global_stride_512_5', 'mem_write_global_stride_4096_5', 'execution_time_1', 'execution_time_2', 'execution_time_3', 'execution_time_4', 'execution_time_5']\n"
     ]
    }
   ],
   "source": [
    "print(df.columns.tolist())"
   ]
  },
  {
   "cell_type": "code",
   "execution_count": 6,
   "id": "600c537d",
   "metadata": {},
   "outputs": [
    {
     "name": "stdout",
     "output_type": "stream",
     "text": [
      "          APP_NAME  funsafe_math_optimizations  fno_guess_branch_probability  \\\n",
      "1152  security_sha                           0                             0   \n",
      "1153  security_sha                           0                             0   \n",
      "1154  security_sha                           0                             0   \n",
      "1155  security_sha                           0                             0   \n",
      "1156  security_sha                           0                             0   \n",
      "...            ...                         ...                           ...   \n",
      "1275  security_sha                           1                             1   \n",
      "1276  security_sha                           1                             1   \n",
      "1277  security_sha                           1                             1   \n",
      "1278  security_sha                           1                             1   \n",
      "1279  security_sha                           1                             1   \n",
      "\n",
      "      fno_ivopts  fno_tree_loop_optimize  fno_inline_functions  \\\n",
      "1152           0                       0                     0   \n",
      "1153           0                       0                     0   \n",
      "1154           0                       0                     0   \n",
      "1155           0                       0                     0   \n",
      "1156           0                       0                     1   \n",
      "...          ...                     ...                   ...   \n",
      "1275           1                       1                     0   \n",
      "1276           1                       1                     1   \n",
      "1277           1                       1                     1   \n",
      "1278           1                       1                     1   \n",
      "1279           1                       1                     1   \n",
      "\n",
      "      funroll_all_loops  o2  code_size  noBasicBlock  ...  \\\n",
      "1152                  0   0     460756            77  ...   \n",
      "1153                  0   1     456660            77  ...   \n",
      "1154                  1   0     460788            77  ...   \n",
      "1155                  1   1     460756            77  ...   \n",
      "1156                  0   0     460756            77  ...   \n",
      "...                 ...  ..        ...           ...  ...   \n",
      "1275                  1   1     460756            77  ...   \n",
      "1276                  0   0     456660            77  ...   \n",
      "1277                  0   1     456660            77  ...   \n",
      "1278                  1   0     460756            77  ...   \n",
      "1279                  1   1     460756            77  ...   \n",
      "\n",
      "      mem_write_global_stride_0_5  mem_write_global_stride_8_5  \\\n",
      "1152                            7                       346555   \n",
      "1153                            7                       346555   \n",
      "1154                            7                       346555   \n",
      "1155                            7                       346555   \n",
      "1156                            7                       346555   \n",
      "...                           ...                          ...   \n",
      "1275                            7                       346555   \n",
      "1276                            7                       346555   \n",
      "1277                            7                       346555   \n",
      "1278                            7                       346555   \n",
      "1279                            7                       346555   \n",
      "\n",
      "      mem_write_global_stride_64_5  mem_write_global_stride_512_5  \\\n",
      "1152                        401963                         403427   \n",
      "1153                        401963                         403427   \n",
      "1154                        401963                         403427   \n",
      "1155                        401963                         403427   \n",
      "1156                        401963                         403427   \n",
      "...                            ...                            ...   \n",
      "1275                        401963                         403427   \n",
      "1276                        401963                         403427   \n",
      "1277                        401963                         403427   \n",
      "1278                        401963                         403427   \n",
      "1279                        401963                         403427   \n",
      "\n",
      "      mem_write_global_stride_4096_5  execution_time_1  execution_time_2  \\\n",
      "1152                          412370           32.2978           49.9471   \n",
      "1153                          412370           34.5968           56.6813   \n",
      "1154                          412370           34.0373           17.2628   \n",
      "1155                          412370           12.4715           18.0461   \n",
      "1156                          412370           11.4441           29.1545   \n",
      "...                              ...               ...               ...   \n",
      "1275                          412370           31.6569           47.9024   \n",
      "1276                          412370           31.4026           60.0688   \n",
      "1277                          412370           30.7312           54.9113   \n",
      "1278                          412370           33.3964           19.1752   \n",
      "1279                          412370           33.4880           53.8534   \n",
      "\n",
      "      execution_time_3  execution_time_4  execution_time_5  \n",
      "1152           79.1728           767.232           68.4713  \n",
      "1153           84.5337           907.613           72.2860  \n",
      "1154           25.9094           523.753           54.0365  \n",
      "1155           84.5846           522.725           44.0165  \n",
      "1156           43.9657           587.179           54.0161  \n",
      "...                ...               ...               ...  \n",
      "1275           88.2365           767.476          108.6220  \n",
      "1276           95.4997           858.978           78.0334  \n",
      "1277           94.6350           701.385           79.3966  \n",
      "1278           35.7768           602.122           76.3041  \n",
      "1279           28.5034           628.682           45.8069  \n",
      "\n",
      "[128 rows x 292 columns]\n"
     ]
    }
   ],
   "source": [
    "df_app = df[df['APP_NAME'] == 'security_sha']\n",
    "print(df_app)"
   ]
  },
  {
   "cell_type": "code",
   "execution_count": 7,
   "id": "ff278441",
   "metadata": {},
   "outputs": [
    {
     "name": "stdout",
     "output_type": "stream",
     "text": [
      "execution_time_1     10.0606\n",
      "execution_time_2     17.2628\n",
      "execution_time_3     23.8953\n",
      "execution_time_4    409.5970\n",
      "execution_time_5     44.0165\n",
      "dtype: float64\n"
     ]
    }
   ],
   "source": [
    "execution_time_cols = ['execution_time_1', 'execution_time_2', 'execution_time_3', 'execution_time_4', 'execution_time_5']\n",
    "min_values = df_app[execution_time_cols].min()\n",
    "print(min_values)"
   ]
  },
  {
   "cell_type": "code",
   "execution_count": 9,
   "id": "057fdd61",
   "metadata": {},
   "outputs": [
    {
     "name": "stdout",
     "output_type": "stream",
     "text": [
      "      funsafe_math_optimizations  fno_guess_branch_probability  fno_ivopts  \\\n",
      "1152                           0                             0           0   \n",
      "1153                           0                             0           0   \n",
      "1154                           0                             0           0   \n",
      "1155                           0                             0           0   \n",
      "1156                           0                             0           0   \n",
      "...                          ...                           ...         ...   \n",
      "1275                           1                             1           1   \n",
      "1276                           1                             1           1   \n",
      "1277                           1                             1           1   \n",
      "1278                           1                             1           1   \n",
      "1279                           1                             1           1   \n",
      "\n",
      "      fno_tree_loop_optimize  fno_inline_functions  funroll_all_loops  o2  \n",
      "1152                       0                     0                  0   0  \n",
      "1153                       0                     0                  0   1  \n",
      "1154                       0                     0                  1   0  \n",
      "1155                       0                     0                  1   1  \n",
      "1156                       0                     1                  0   0  \n",
      "...                      ...                   ...                ...  ..  \n",
      "1275                       1                     0                  1   1  \n",
      "1276                       1                     1                  0   0  \n",
      "1277                       1                     1                  0   1  \n",
      "1278                       1                     1                  1   0  \n",
      "1279                       1                     1                  1   1  \n",
      "\n",
      "[128 rows x 7 columns]\n"
     ]
    }
   ],
   "source": [
    "# Print the values of the specified columns where the execution times are present in df_app\n",
    "cols_to_print = [\n",
    "    'funsafe_math_optimizations', 'fno_guess_branch_probability', 'fno_ivopts',\n",
    "    'fno_tree_loop_optimize', 'fno_inline_functions', 'funroll_all_loops', 'o2'\n",
    "]\n",
    "print(df_app[cols_to_print])"
   ]
  },
  {
   "cell_type": "code",
   "execution_count": null,
   "id": "5159ae6d",
   "metadata": {},
   "outputs": [],
   "source": [
    "cols_to_print = [\n",
    "    'funsafe_math_optimizations', 'fno_guess_branch_probability', 'fno_ivopts',\n",
    "    'fno_tree_loop_optimize', 'fno_inline_functions', 'funroll_all_loops', 'o2'\n",
    "]\n",
    "print(df_app[cols_to_print])"
   ]
  },
  {
   "cell_type": "code",
   "execution_count": 13,
   "id": "577a7804",
   "metadata": {},
   "outputs": [
    {
     "name": "stdout",
     "output_type": "stream",
     "text": [
      "Flag configurations with minimum execution time:\n",
      "      funsafe_math_optimizations  fno_guess_branch_probability  fno_ivopts  \\\n",
      "1186                           0                             1           0   \n",
      "\n",
      "      fno_tree_loop_optimize  fno_inline_functions  funroll_all_loops  o2  \\\n",
      "1186                       0                     0                  1   0   \n",
      "\n",
      "      mean_exec_time  \n",
      "1186       108.92542  \n"
     ]
    },
    {
     "name": "stderr",
     "output_type": "stream",
     "text": [
      "C:\\Users\\sis\\AppData\\Local\\Temp\\ipykernel_26396\\2363296784.py:12: SettingWithCopyWarning: \n",
      "A value is trying to be set on a copy of a slice from a DataFrame.\n",
      "Try using .loc[row_indexer,col_indexer] = value instead\n",
      "\n",
      "See the caveats in the documentation: https://pandas.pydata.org/pandas-docs/stable/user_guide/indexing.html#returning-a-view-versus-a-copy\n",
      "  df_app['mean_exec_time'] = df_app[execution_time_cols].mean(axis=1)\n"
     ]
    }
   ],
   "source": [
    "import pandas as pd\n",
    "\n",
    "# Define flag and execution time columns\n",
    "flag_cols = [\n",
    "    'funsafe_math_optimizations', 'fno_guess_branch_probability', 'fno_ivopts',\n",
    "    'fno_tree_loop_optimize', 'fno_inline_functions', 'funroll_all_loops', 'o2'\n",
    "]\n",
    "\n",
    "execution_time_cols = ['execution_time_1', 'execution_time_2', 'execution_time_3', 'execution_time_4', 'execution_time_5']\n",
    "\n",
    "# Compute mean execution time\n",
    "df_app['mean_exec_time'] = df_app[execution_time_cols].mean(axis=1)\n",
    "\n",
    "# Get the minimum mean execution time\n",
    "min_exec_time = df_app['mean_exec_time'].min()\n",
    "\n",
    "# Filter rows with minimum mean execution time\n",
    "best_configs = df_app[df_app['mean_exec_time'] == min_exec_time][flag_cols + ['mean_exec_time']]\n",
    "\n",
    "# Print the best flag configurations\n",
    "print(\"Flag configurations with minimum execution time:\")\n",
    "print(best_configs)\n"
   ]
  },
  {
   "cell_type": "code",
   "execution_count": 14,
   "id": "65056a2d",
   "metadata": {},
   "outputs": [
    {
     "name": "stdout",
     "output_type": "stream",
     "text": [
      "Matching flag configuration found:\n",
      "      funsafe_math_optimizations  fno_guess_branch_probability  fno_ivopts  \\\n",
      "1250                           1                             1           0   \n",
      "\n",
      "      fno_tree_loop_optimize  fno_inline_functions  funroll_all_loops  o2  \\\n",
      "1250                       0                     0                  1   0   \n",
      "\n",
      "      execution_time_1  execution_time_2  execution_time_3  execution_time_4  \\\n",
      "1250           32.1859           49.6623           70.5465           684.102   \n",
      "\n",
      "      execution_time_5  mean_exec_time  \n",
      "1250           59.3058        179.1605  \n"
     ]
    }
   ],
   "source": [
    "# Define flag column order\n",
    "flag_cols = [\n",
    "    'funsafe_math_optimizations',\n",
    "    'fno_guess_branch_probability',\n",
    "    'fno_ivopts',\n",
    "    'fno_tree_loop_optimize',\n",
    "    'fno_inline_functions',\n",
    "    'funroll_all_loops',\n",
    "    'o2'\n",
    "]\n",
    "\n",
    "# Desired configuration\n",
    "target_config = [1, 1, 0, 0, 0, 1, 0]\n",
    "\n",
    "# Filter rows matching the target flag configuration\n",
    "mask = (df_app[flag_cols] == target_config).all(axis=1)\n",
    "matched_rows = df_app[mask]\n",
    "\n",
    "# If execution_time_1–5 exists, calculate mean or print raw values\n",
    "if not matched_rows.empty:\n",
    "    print(\"Matching flag configuration found:\")\n",
    "    print(matched_rows[flag_cols + execution_time_cols + ['mean_exec_time']])\n",
    "else:\n",
    "    print(\"No exact match found for the specified flag combination.\")\n"
   ]
  }
 ],
 "metadata": {
  "kernelspec": {
   "display_name": "Python 3",
   "language": "python",
   "name": "python3"
  },
  "language_info": {
   "codemirror_mode": {
    "name": "ipython",
    "version": 3
   },
   "file_extension": ".py",
   "mimetype": "text/x-python",
   "name": "python",
   "nbconvert_exporter": "python",
   "pygments_lexer": "ipython3",
   "version": "3.11.9"
  }
 },
 "nbformat": 4,
 "nbformat_minor": 5
}
